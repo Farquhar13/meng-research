{
 "cells": [
  {
   "cell_type": "markdown",
   "metadata": {},
   "source": [
    "# PyTorch to TensorFlow with onnx"
   ]
  },
  {
   "cell_type": "markdown",
   "metadata": {},
   "source": [
    "## What we have\n",
    "- A converter from PyTorch to onnx to TensorFlow for a specific PyTorch model \n",
    "    https://github.com/Farquhar13/meng-research/blob/master/src/convert.py\n",
    "- A program to give a text readable representation of an onnx model\n",
    "    https://github.com/Farquhar13/meng-research/blob/master/src/readable.py"
   ]
  },
  {
   "cell_type": "markdown",
   "metadata": {},
   "source": [
    "## Generality Issues\n",
    "- Converting to onnx requires the class used to instaintiate the PyTorch model"
   ]
  },
  {
   "cell_type": "code",
   "execution_count": null,
   "metadata": {},
   "outputs": [],
   "source": [
    "# Net class used to instantiate the model\n",
    "# convert.py line 28\n",
    "from torchNet import Net"
   ]
  },
  {
   "cell_type": "markdown",
   "metadata": {},
   "source": [
    "- A PyTorch Variable of the same size as the input is required to create the onnx model"
   ]
  },
  {
   "cell_type": "code",
   "execution_count": null,
   "metadata": {},
   "outputs": [],
   "source": [
    "# PyTorch Variable of input size for onnx instantiation\n",
    "# convert.py lines 56-58\n",
    "# Export the trained model to ONNX\n",
    "dummy_input = Variable(torch.randn(1, 1, 28, 28)) # one black and white 28 x 28 picture will be the input to the model\n",
    "torch.onnx.export(trained_model, dummy_input, fonnx)"
   ]
  },
  {
   "cell_type": "markdown",
   "metadata": {},
   "source": [
    "- When using the model in TensorFlow the input must be resized correctly to match the input sepcified by the model"
   ]
  },
  {
   "cell_type": "code",
   "execution_count": null,
   "metadata": {},
   "outputs": [],
   "source": [
    "# When running the TF model, need to resize per the specification\n",
    "# of the input layer of the model\n",
    "# convert.py lines 81-84\n",
    "img = Image.open(img).resize((28, 28)).convert('L')\n",
    "display(img)\n",
    "output = tf_rep.run(np.asarray(img, dtype=np.float32)[np.newaxis, np.newaxis, :, :])"
   ]
  },
  {
   "cell_type": "markdown",
   "metadata": {},
   "source": [
    "## Issues Getting to Production Quality \n",
    "- I found this form useful for gauging the capability and limitations of onnx \n",
    "https://forums.fast.ai/t/converting-a-pytorch-model-to-tensorflow-or-keras-for-production/14016\n",
    "- The model must be a Static Graph, rather than a Dynamic Graph in the forward method\n",
    "- Some operations are not supported (e.g. AdadptivePool must be converted to MaxPool or AvgPool)\n",
    "- A full list of supported operations can be found at https://pytorch.org/docs/stable/onnx.html\n",
    "- onnx may encounter difficulty when using custom models. Custom models meaning those outside model zoo, a collection of common, predefined models\n",
    "- Some operations with torch.nn.Modules have known issues when converting to onnx, such as the ELU activation function \n",
    "- It seems that some people have had issues with segmentation faults when importing onnx and PyTorch?\n",
    "- Apparently PyTorch and TensorFlow handel padding differently which may yield different results"
   ]
  },
  {
   "cell_type": "markdown",
   "metadata": {},
   "source": [
    "## Final Thoughts\n",
    "It seems that onnx is a useful tool for converting PyTorch models, and I expect that it will work for most use cases. However, as far as I'm aware, onnx and PyTorch are not yet able to guarantee the consistent perfromance desired for a production quality, general converter. \n",
    "\n",
    "Still, it may be worth looking into. Perhaps a converter could still be useful if the limitations were given."
   ]
  }
 ],
 "metadata": {
  "kernelspec": {
   "display_name": "Python 3",
   "language": "python",
   "name": "python3"
  },
  "language_info": {
   "codemirror_mode": {
    "name": "ipython",
    "version": 3
   },
   "file_extension": ".py",
   "mimetype": "text/x-python",
   "name": "python",
   "nbconvert_exporter": "python",
   "pygments_lexer": "ipython3",
   "version": "3.7.0"
  }
 },
 "nbformat": 4,
 "nbformat_minor": 2
}
